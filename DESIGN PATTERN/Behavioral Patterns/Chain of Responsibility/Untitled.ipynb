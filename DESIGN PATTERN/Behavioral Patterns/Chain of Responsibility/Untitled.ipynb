{
 "cells": [
  {
   "cell_type": "code",
   "execution_count": 1,
   "id": "1451c1b1",
   "metadata": {},
   "outputs": [],
   "source": [
    "def walk_dogs(request):\n",
    "    print('Dogs love walks!')\n",
    "\n",
    "def see_cats(request):\n",
    "    print('People have dogs, cats have staff.')\n",
    "\n",
    "def clean_tank(request):\n",
    "        print(\"I can't find Nemo!\")\n",
    "\n",
    "def check_life(request):\n",
    "        print('I know a dead parrot when I see one.')\n",
    "        "
   ]
  },
  {
   "cell_type": "code",
   "execution_count": 3,
   "id": "066be6f8",
   "metadata": {},
   "outputs": [
    {
     "name": "stdout",
     "output_type": "stream",
     "text": [
      "Dogs love walks!\n",
      "People have dogs, cats have staff.\n",
      "I can't find Nemo!\n",
      "I know a dead parrot when I see one.\n"
     ]
    }
   ],
   "source": [
    "from dataclasses import dataclass\n",
    "\n",
    "@dataclass\n",
    "class Request:\n",
    "    request_type: str\n",
    "    request_details: str\n",
    "\n",
    "REQUESTS = [\n",
    "    Request('dogs', 'walk twice a day'),\n",
    "    Request('cats', 'see how pretty they are'),\n",
    "    Request('fish', 'keep the tank clean'),\n",
    "    Request('parrot','check for signs of life') \n",
    "]\n",
    "\n",
    "def main():\n",
    "    for r in REQUESTS:\n",
    "        if r.request_type == 'dogs':\n",
    "            walk_dogs(r)\n",
    "        elif r.request_type == 'cats':\n",
    "            see_cats(r)\n",
    "        elif r.request_type == 'fish':\n",
    "            clean_tank(r)\n",
    "        elif r.request_type == 'parrot':\n",
    "            check_life(r)\n",
    "        else: print(f'Unknown request type: {r.request_type}')            \n",
    "    pass\n",
    "\n",
    "if __name__ == '__main__':\n",
    "    main()"
   ]
  },
  {
   "cell_type": "code",
   "execution_count": null,
   "id": "2b6d6692",
   "metadata": {},
   "outputs": [],
   "source": []
  },
  {
   "cell_type": "code",
   "execution_count": 4,
   "id": "a7570f94",
   "metadata": {},
   "outputs": [],
   "source": [
    "import abc\n",
    "\n",
    "\n",
    "class AbsHandler(abc.ABC):\n",
    "    \n",
    "    @abc.abstractproperty\n",
    "    def successor(self):\n",
    "        pass\n",
    "    \n",
    "    @abc.abstractmethod\n",
    "    def handle(self, request):\n",
    "        pass\n"
   ]
  },
  {
   "cell_type": "code",
   "execution_count": 9,
   "id": "b6dad898",
   "metadata": {},
   "outputs": [],
   "source": [
    "class PetHandler(AbsHandler):\n",
    "    def __init__(self, successor):\n",
    "        self._successor = successor\n",
    "        \n",
    "    def successor(self):\n",
    "        return self._successor\n",
    "    \n",
    "    def handle(self, request):\n",
    "        if self.successor:\n",
    "            self.successor.handle(request)\n",
    "\n",
    "p = PetHandler('hi')"
   ]
  },
  {
   "cell_type": "code",
   "execution_count": null,
   "id": "50331ecc",
   "metadata": {},
   "outputs": [],
   "source": []
  },
  {
   "cell_type": "code",
   "execution_count": null,
   "id": "b4596f6f",
   "metadata": {},
   "outputs": [],
   "source": []
  }
 ],
 "metadata": {
  "kernelspec": {
   "display_name": "Python 3 (ipykernel)",
   "language": "python",
   "name": "python3"
  },
  "language_info": {
   "codemirror_mode": {
    "name": "ipython",
    "version": 3
   },
   "file_extension": ".py",
   "mimetype": "text/x-python",
   "name": "python",
   "nbconvert_exporter": "python",
   "pygments_lexer": "ipython3",
   "version": "3.9.6"
  }
 },
 "nbformat": 4,
 "nbformat_minor": 5
}
